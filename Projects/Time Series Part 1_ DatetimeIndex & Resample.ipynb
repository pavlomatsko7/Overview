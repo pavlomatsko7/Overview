{
 "cells": [
  {
   "cell_type": "code",
   "execution_count": 23,
   "metadata": {
    "scrolled": true
   },
   "outputs": [
    {
     "data": {
      "text/html": [
       "<div>\n",
       "<style scoped>\n",
       "    .dataframe tbody tr th:only-of-type {\n",
       "        vertical-align: middle;\n",
       "    }\n",
       "\n",
       "    .dataframe tbody tr th {\n",
       "        vertical-align: top;\n",
       "    }\n",
       "\n",
       "    .dataframe thead th {\n",
       "        text-align: right;\n",
       "    }\n",
       "</style>\n",
       "<table border=\"1\" class=\"dataframe\">\n",
       "  <thead>\n",
       "    <tr style=\"text-align: right;\">\n",
       "      <th></th>\n",
       "      <th>Open</th>\n",
       "      <th>High</th>\n",
       "      <th>Low</th>\n",
       "      <th>Close</th>\n",
       "      <th>Adj Close</th>\n",
       "      <th>Volume</th>\n",
       "    </tr>\n",
       "    <tr>\n",
       "      <th>Date</th>\n",
       "      <th></th>\n",
       "      <th></th>\n",
       "      <th></th>\n",
       "      <th></th>\n",
       "      <th></th>\n",
       "      <th></th>\n",
       "    </tr>\n",
       "  </thead>\n",
       "  <tbody>\n",
       "    <tr>\n",
       "      <th>2018-04-16</th>\n",
       "      <td>175.029999</td>\n",
       "      <td>176.190002</td>\n",
       "      <td>174.830002</td>\n",
       "      <td>175.820007</td>\n",
       "      <td>173.182922</td>\n",
       "      <td>21578400</td>\n",
       "    </tr>\n",
       "    <tr>\n",
       "      <th>2018-04-17</th>\n",
       "      <td>176.490005</td>\n",
       "      <td>178.940002</td>\n",
       "      <td>176.410004</td>\n",
       "      <td>178.240005</td>\n",
       "      <td>175.566620</td>\n",
       "      <td>26509000</td>\n",
       "    </tr>\n",
       "    <tr>\n",
       "      <th>2018-04-18</th>\n",
       "      <td>177.809998</td>\n",
       "      <td>178.820007</td>\n",
       "      <td>176.880005</td>\n",
       "      <td>177.839996</td>\n",
       "      <td>175.172607</td>\n",
       "      <td>20754500</td>\n",
       "    </tr>\n",
       "    <tr>\n",
       "      <th>2018-04-19</th>\n",
       "      <td>173.759995</td>\n",
       "      <td>175.389999</td>\n",
       "      <td>172.660004</td>\n",
       "      <td>172.800003</td>\n",
       "      <td>170.208206</td>\n",
       "      <td>34808800</td>\n",
       "    </tr>\n",
       "    <tr>\n",
       "      <th>2018-04-20</th>\n",
       "      <td>170.600006</td>\n",
       "      <td>171.220001</td>\n",
       "      <td>165.429993</td>\n",
       "      <td>165.720001</td>\n",
       "      <td>163.234390</td>\n",
       "      <td>65491100</td>\n",
       "    </tr>\n",
       "  </tbody>\n",
       "</table>\n",
       "</div>"
      ],
      "text/plain": [
       "                  Open        High         Low       Close   Adj Close  \\\n",
       "Date                                                                     \n",
       "2018-04-16  175.029999  176.190002  174.830002  175.820007  173.182922   \n",
       "2018-04-17  176.490005  178.940002  176.410004  178.240005  175.566620   \n",
       "2018-04-18  177.809998  178.820007  176.880005  177.839996  175.172607   \n",
       "2018-04-19  173.759995  175.389999  172.660004  172.800003  170.208206   \n",
       "2018-04-20  170.600006  171.220001  165.429993  165.720001  163.234390   \n",
       "\n",
       "              Volume  \n",
       "Date                  \n",
       "2018-04-16  21578400  \n",
       "2018-04-17  26509000  \n",
       "2018-04-18  20754500  \n",
       "2018-04-19  34808800  \n",
       "2018-04-20  65491100  "
      ]
     },
     "execution_count": 23,
     "metadata": {},
     "output_type": "execute_result"
    }
   ],
   "source": [
    "#Proper way of importing Time Series Data\n",
    "import pandas as pd\n",
    "df = pd.read_csv(r'C:\\Users\\Pavlo\\Documents\\Python Practice Files\\AAPL.csv', parse_dates=[\"Date\"], index_col=\"Date\")\n",
    "df.head(5)"
   ]
  },
  {
   "cell_type": "code",
   "execution_count": 24,
   "metadata": {},
   "outputs": [
    {
     "data": {
      "text/plain": [
       "DatetimeIndex(['2018-04-16', '2018-04-17', '2018-04-18', '2018-04-19',\n",
       "               '2018-04-20', '2018-04-23', '2018-04-24', '2018-04-25',\n",
       "               '2018-04-26', '2018-04-27',\n",
       "               ...\n",
       "               '2019-04-01', '2019-04-02', '2019-04-03', '2019-04-04',\n",
       "               '2019-04-05', '2019-04-08', '2019-04-09', '2019-04-10',\n",
       "               '2019-04-11', '2019-04-12'],\n",
       "              dtype='datetime64[ns]', name='Date', length=251, freq=None)"
      ]
     },
     "execution_count": 24,
     "metadata": {},
     "output_type": "execute_result"
    }
   ],
   "source": [
    "df.index"
   ]
  },
  {
   "cell_type": "code",
   "execution_count": 36,
   "metadata": {},
   "outputs": [
    {
     "data": {
      "text/html": [
       "<div>\n",
       "<style scoped>\n",
       "    .dataframe tbody tr th:only-of-type {\n",
       "        vertical-align: middle;\n",
       "    }\n",
       "\n",
       "    .dataframe tbody tr th {\n",
       "        vertical-align: top;\n",
       "    }\n",
       "\n",
       "    .dataframe thead th {\n",
       "        text-align: right;\n",
       "    }\n",
       "</style>\n",
       "<table border=\"1\" class=\"dataframe\">\n",
       "  <thead>\n",
       "    <tr style=\"text-align: right;\">\n",
       "      <th></th>\n",
       "      <th>Open</th>\n",
       "      <th>High</th>\n",
       "      <th>Low</th>\n",
       "      <th>Close</th>\n",
       "      <th>Adj Close</th>\n",
       "      <th>Volume</th>\n",
       "    </tr>\n",
       "    <tr>\n",
       "      <th>Date</th>\n",
       "      <th></th>\n",
       "      <th></th>\n",
       "      <th></th>\n",
       "      <th></th>\n",
       "      <th></th>\n",
       "      <th></th>\n",
       "    </tr>\n",
       "  </thead>\n",
       "  <tbody>\n",
       "    <tr>\n",
       "      <th>2018-04-16</th>\n",
       "      <td>175.029999</td>\n",
       "      <td>176.190002</td>\n",
       "      <td>174.830002</td>\n",
       "      <td>175.820007</td>\n",
       "      <td>173.182922</td>\n",
       "      <td>21578400</td>\n",
       "    </tr>\n",
       "    <tr>\n",
       "      <th>2018-04-17</th>\n",
       "      <td>176.490005</td>\n",
       "      <td>178.940002</td>\n",
       "      <td>176.410004</td>\n",
       "      <td>178.240005</td>\n",
       "      <td>175.566620</td>\n",
       "      <td>26509000</td>\n",
       "    </tr>\n",
       "    <tr>\n",
       "      <th>2018-04-18</th>\n",
       "      <td>177.809998</td>\n",
       "      <td>178.820007</td>\n",
       "      <td>176.880005</td>\n",
       "      <td>177.839996</td>\n",
       "      <td>175.172607</td>\n",
       "      <td>20754500</td>\n",
       "    </tr>\n",
       "    <tr>\n",
       "      <th>2018-04-19</th>\n",
       "      <td>173.759995</td>\n",
       "      <td>175.389999</td>\n",
       "      <td>172.660004</td>\n",
       "      <td>172.800003</td>\n",
       "      <td>170.208206</td>\n",
       "      <td>34808800</td>\n",
       "    </tr>\n",
       "    <tr>\n",
       "      <th>2018-04-20</th>\n",
       "      <td>170.600006</td>\n",
       "      <td>171.220001</td>\n",
       "      <td>165.429993</td>\n",
       "      <td>165.720001</td>\n",
       "      <td>163.234390</td>\n",
       "      <td>65491100</td>\n",
       "    </tr>\n",
       "  </tbody>\n",
       "</table>\n",
       "</div>"
      ],
      "text/plain": [
       "                  Open        High         Low       Close   Adj Close  \\\n",
       "Date                                                                     \n",
       "2018-04-16  175.029999  176.190002  174.830002  175.820007  173.182922   \n",
       "2018-04-17  176.490005  178.940002  176.410004  178.240005  175.566620   \n",
       "2018-04-18  177.809998  178.820007  176.880005  177.839996  175.172607   \n",
       "2018-04-19  173.759995  175.389999  172.660004  172.800003  170.208206   \n",
       "2018-04-20  170.600006  171.220001  165.429993  165.720001  163.234390   \n",
       "\n",
       "              Volume  \n",
       "Date                  \n",
       "2018-04-16  21578400  \n",
       "2018-04-17  26509000  \n",
       "2018-04-18  20754500  \n",
       "2018-04-19  34808800  \n",
       "2018-04-20  65491100  "
      ]
     },
     "execution_count": 36,
     "metadata": {},
     "output_type": "execute_result"
    }
   ],
   "source": [
    "#Showing specific year.(df[\"2019-01\"]),(df[\"2019-01\"].Close),(df[\"2019-01\"].Close.mean()),(df[\"2018-04-16\":\"2019-04-12\"])\n",
    "df[\"2018-04-16\":\"2018-04-22\"]"
   ]
  },
  {
   "cell_type": "code",
   "execution_count": 37,
   "metadata": {},
   "outputs": [
    {
     "data": {
      "text/plain": [
       "Date\n",
       "2018-04-30    168.550001\n",
       "2018-05-31    185.536818\n",
       "2018-06-30    188.621429\n",
       "2018-07-31    190.311429\n",
       "2018-08-31    213.346089\n",
       "2018-09-30    222.073685\n",
       "2018-10-31    220.845652\n",
       "2018-11-30    191.235714\n",
       "2018-12-31    164.266317\n",
       "2019-01-31    154.166190\n",
       "2019-02-28    171.727893\n",
       "2019-03-31    183.293810\n",
       "2019-04-30    197.134001\n",
       "Freq: M, Name: Close, dtype: float64"
      ]
     },
     "execution_count": 37,
     "metadata": {},
     "output_type": "execute_result"
    }
   ],
   "source": [
    "#Showing closing price by month. Average in this case\n",
    "df.Close.resample(\"M\").mean()"
   ]
  },
  {
   "cell_type": "code",
   "execution_count": 50,
   "metadata": {},
   "outputs": [
    {
     "data": {
      "text/plain": [
       "<matplotlib.axes._subplots.AxesSubplot at 0x2b1d04d3ac8>"
      ]
     },
     "execution_count": 50,
     "metadata": {},
     "output_type": "execute_result"
    },
    {
     "data": {
      "image/png": "[encoded data removed]",
      "text/plain": [
       "<Figure size 432x288 with 1 Axes>"
      ]
     },
     "metadata": {
      "needs_background": "light"
     },
     "output_type": "display_data"
    }
   ],
   "source": [
    "#Plotting the avg monthly closing price as listed above. 'M' is for monthly. 'W', is for weekly. 'D' is for daily\n",
    "#Use this for more Alianses: http://pandas.pydata.org/pandas-docs/stable/user_guide/timeseries.html#dateoffset-objects\n",
    "#Changing the chart type: .plot(kind=\"bar\")\n",
    "%matplotlib inline\n",
    "df.Close.resample('Q').mean().plot()"
   ]
  },
  {
   "cell_type": "code",
   "execution_count": 51,
   "metadata": {},
   "outputs": [
    {
     "data": {
      "text/plain": [
       "<matplotlib.axes._subplots.AxesSubplot at 0x2b1d0577a20>"
      ]
     },
     "execution_count": 51,
     "metadata": {},
     "output_type": "execute_result"
    },
    {
     "data": {
      "image/png": "[encoded data removed]",
      "text/plain": [
       "<Figure size 432x288 with 1 Axes>"
      ]
     },
     "metadata": {
      "needs_background": "light"
     },
     "output_type": "display_data"
    }
   ],
   "source": [
    "#Basic plot of closing price\n",
    "df.Close.plot()"
   ]
  }
 ],
 "metadata": {
  "kernelspec": {
   "display_name": "Python 3",
   "language": "python",
   "name": "python3"
  },
  "language_info": {
   "codemirror_mode": {
    "name": "ipython",
    "version": 3
   },
   "file_extension": ".py",
   "mimetype": "text/x-python",
   "name": "python",
   "nbconvert_exporter": "python",
   "pygments_lexer": "ipython3",
   "version": "3.7.3"
  }
 },
 "nbformat": 4,
 "nbformat_minor": 2
}
