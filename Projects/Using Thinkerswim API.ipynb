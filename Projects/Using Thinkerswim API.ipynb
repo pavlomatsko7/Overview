{
 "cells": [
  {
   "cell_type": "code",
   "execution_count": 1,
   "metadata": {},
   "outputs": [],
   "source": [
    "#Opens Excel and uses RTD Function to get data from chosen ticker\n",
    "import xlwings as xw\n",
    "import time\n",
    "wb = xw.Book()\n",
    "ws1 = xw.sheets[0]\n",
    "def getQuote(ticker, type):\n",
    "    ws1.range('B1').value = '=RTD(\"tos.rtd\", ,\"%s\", \"%s\")' % (type, ticker)\n",
    "    time.sleep(2.5)\n",
    "    return ws1.range('B1').value\n",
    "def quoteOption(type, ticker, cp, exp, strike):\n",
    "    ws1.range('B2').value = '=RTD(\"tos.rtd\", ,\"%s\", \".%s%s%s%s\")' % (type, ticker, exp, cp, strike)\n",
    "    time.sleep(2.5) \n",
    "    return ws1.range('B2').value"
   ]
  },
  {
   "cell_type": "code",
   "execution_count": 2,
   "metadata": {},
   "outputs": [
    {
     "name": "stdout",
     "output_type": "stream",
     "text": [
      "288.1\n",
      "8.19\n"
     ]
    }
   ],
   "source": [
    "print(getQuote('SPY','Last'))\n",
    "print(quoteOption('Last','SPY','C',190513,280))"
   ]
  },
  {
   "cell_type": "code",
   "execution_count": null,
   "metadata": {},
   "outputs": [],
   "source": []
  }
 ],
 "metadata": {
  "kernelspec": {
   "display_name": "Python 3",
   "language": "python",
   "name": "python3"
  },
  "language_info": {
   "codemirror_mode": {
    "name": "ipython",
    "version": 3
   },
   "file_extension": ".py",
   "mimetype": "text/x-python",
   "name": "python",
   "nbconvert_exporter": "python",
   "pygments_lexer": "ipython3",
   "version": "3.7.3"
  }
 },
 "nbformat": 4,
 "nbformat_minor": 2
}
